{
  "nbformat": 4,
  "nbformat_minor": 0,
  "metadata": {
    "colab": {
      "name": "cnn_model_final.ipynb",
      "provenance": [],
      "collapsed_sections": []
    },
    "kernelspec": {
      "name": "python3",
      "display_name": "Python 3"
    }
  },
  "cells": [
    {
      "cell_type": "code",
      "metadata": {
        "id": "GzhBvx8OMXqD",
        "colab_type": "code",
        "outputId": "2fcd0450-e711-407f-ecac-5a7032606c01",
        "colab": {
          "base_uri": "https://localhost:8080/",
          "height": 580
        }
      },
      "source": [
        "! pip install numpy==1.17.0\n",
        "! pip install folium==0.8.3\n",
        "! pip install imgaug==0.2.9\n",
        "! pip install -U protobuf==3.8.0"
      ],
      "execution_count": 0,
      "outputs": [
        {
          "output_type": "stream",
          "text": [
            "Requirement already satisfied: numpy==1.17.0 in /usr/local/lib/python3.6/dist-packages (1.17.0)\n",
            "Requirement already satisfied: folium==0.8.3 in /usr/local/lib/python3.6/dist-packages (0.8.3)\n",
            "Requirement already satisfied: six in /usr/local/lib/python3.6/dist-packages (from folium==0.8.3) (1.12.0)\n",
            "Requirement already satisfied: branca>=0.3.0 in /usr/local/lib/python3.6/dist-packages (from folium==0.8.3) (0.4.1)\n",
            "Requirement already satisfied: jinja2 in /usr/local/lib/python3.6/dist-packages (from folium==0.8.3) (2.11.2)\n",
            "Requirement already satisfied: numpy in /usr/local/lib/python3.6/dist-packages (from folium==0.8.3) (1.17.0)\n",
            "Requirement already satisfied: requests in /usr/local/lib/python3.6/dist-packages (from folium==0.8.3) (2.23.0)\n",
            "Requirement already satisfied: MarkupSafe>=0.23 in /usr/local/lib/python3.6/dist-packages (from jinja2->folium==0.8.3) (1.1.1)\n",
            "Requirement already satisfied: urllib3!=1.25.0,!=1.25.1,<1.26,>=1.21.1 in /usr/local/lib/python3.6/dist-packages (from requests->folium==0.8.3) (1.24.3)\n",
            "Requirement already satisfied: certifi>=2017.4.17 in /usr/local/lib/python3.6/dist-packages (from requests->folium==0.8.3) (2020.4.5.1)\n",
            "Requirement already satisfied: idna<3,>=2.5 in /usr/local/lib/python3.6/dist-packages (from requests->folium==0.8.3) (2.9)\n",
            "Requirement already satisfied: chardet<4,>=3.0.2 in /usr/local/lib/python3.6/dist-packages (from requests->folium==0.8.3) (3.0.4)\n",
            "Requirement already satisfied: imgaug==0.2.9 in /usr/local/lib/python3.6/dist-packages (0.2.9)\n",
            "Requirement already satisfied: imageio in /usr/local/lib/python3.6/dist-packages (from imgaug==0.2.9) (2.4.1)\n",
            "Requirement already satisfied: opencv-python in /usr/local/lib/python3.6/dist-packages (from imgaug==0.2.9) (4.1.2.30)\n",
            "Requirement already satisfied: six in /usr/local/lib/python3.6/dist-packages (from imgaug==0.2.9) (1.12.0)\n",
            "Requirement already satisfied: matplotlib in /usr/local/lib/python3.6/dist-packages (from imgaug==0.2.9) (3.2.1)\n",
            "Requirement already satisfied: scipy in /usr/local/lib/python3.6/dist-packages (from imgaug==0.2.9) (1.4.1)\n",
            "Requirement already satisfied: numpy>=1.15.0 in /usr/local/lib/python3.6/dist-packages (from imgaug==0.2.9) (1.17.0)\n",
            "Requirement already satisfied: Pillow in /usr/local/lib/python3.6/dist-packages (from imgaug==0.2.9) (7.0.0)\n",
            "Requirement already satisfied: Shapely in /usr/local/lib/python3.6/dist-packages (from imgaug==0.2.9) (1.7.0)\n",
            "Requirement already satisfied: scikit-image>=0.11.0 in /usr/local/lib/python3.6/dist-packages (from imgaug==0.2.9) (0.16.2)\n",
            "Requirement already satisfied: python-dateutil>=2.1 in /usr/local/lib/python3.6/dist-packages (from matplotlib->imgaug==0.2.9) (2.8.1)\n",
            "Requirement already satisfied: cycler>=0.10 in /usr/local/lib/python3.6/dist-packages (from matplotlib->imgaug==0.2.9) (0.10.0)\n",
            "Requirement already satisfied: pyparsing!=2.0.4,!=2.1.2,!=2.1.6,>=2.0.1 in /usr/local/lib/python3.6/dist-packages (from matplotlib->imgaug==0.2.9) (2.4.7)\n",
            "Requirement already satisfied: kiwisolver>=1.0.1 in /usr/local/lib/python3.6/dist-packages (from matplotlib->imgaug==0.2.9) (1.2.0)\n",
            "Requirement already satisfied: PyWavelets>=0.4.0 in /usr/local/lib/python3.6/dist-packages (from scikit-image>=0.11.0->imgaug==0.2.9) (1.1.1)\n",
            "Requirement already satisfied: networkx>=2.0 in /usr/local/lib/python3.6/dist-packages (from scikit-image>=0.11.0->imgaug==0.2.9) (2.4)\n",
            "Requirement already satisfied: decorator>=4.3.0 in /usr/local/lib/python3.6/dist-packages (from networkx>=2.0->scikit-image>=0.11.0->imgaug==0.2.9) (4.4.2)\n",
            "Requirement already up-to-date: protobuf==3.8.0 in /usr/local/lib/python3.6/dist-packages (3.8.0)\n",
            "Requirement already satisfied, skipping upgrade: six>=1.9 in /usr/local/lib/python3.6/dist-packages (from protobuf==3.8.0) (1.12.0)\n",
            "Requirement already satisfied, skipping upgrade: setuptools in /usr/local/lib/python3.6/dist-packages (from protobuf==3.8.0) (47.1.1)\n"
          ],
          "name": "stdout"
        }
      ]
    },
    {
      "cell_type": "code",
      "metadata": {
        "id": "G8icvGD5MYKb",
        "colab_type": "code",
        "outputId": "eb6cb177-1309-4ea1-9168-080963eeedac",
        "colab": {
          "base_uri": "https://localhost:8080/",
          "height": 34
        }
      },
      "source": [
        "from google.colab import drive\n",
        "drive.mount('/content/drive')"
      ],
      "execution_count": 0,
      "outputs": [
        {
          "output_type": "stream",
          "text": [
            "Drive already mounted at /content/drive; to attempt to forcibly remount, call drive.mount(\"/content/drive\", force_remount=True).\n"
          ],
          "name": "stdout"
        }
      ]
    },
    {
      "cell_type": "code",
      "metadata": {
        "id": "GEkbRqwoMYMv",
        "colab_type": "code",
        "outputId": "6c299a68-c3c6-4ed1-c57e-5e5752e49312",
        "colab": {
          "base_uri": "https://localhost:8080/",
          "height": 87
        }
      },
      "source": [
        "from PIL import Image\n",
        "import os, glob, numpy as np\n",
        "from sklearn.model_selection import train_test_split\n",
        "\n",
        "caltech_dir_ap = \"/content/drive/My Drive/home/pi/CarLicensePlate/train_img\"   #add_parking과 add_noparking폴더를 가지고 있는 큰 카테고리 \n",
        "categories_ap = [\"add_parking\",\"add_noparking\"]  #car와 no_car로 나누기\n",
        "nb_classes_ap = len(categories_ap)\n",
        "\n",
        "image_w_ap = 64\n",
        "image_h_ap = 64\n",
        "\n",
        "pixels_ap = image_h_ap * image_w_ap * 3\n",
        "\n",
        "X_ap = []\n",
        "y_ap = []\n",
        "\n",
        "for idx, cat_ap in enumerate(categories_ap):  \n",
        "\n",
        "    #one-hot 돌리기.\n",
        "    label_ap = [0 for i in range(nb_classes_ap)]\n",
        "    label_ap[idx] = 1\n",
        "\n",
        "    image_dir_ap = caltech_dir_ap + \"/\" + cat_ap\n",
        "    files_ap = glob.glob(image_dir_ap+\"/*.png\")\n",
        "    print(cat_ap, \" 파일 길이 : \", len(files_ap))\n",
        "    for i, f_ap in enumerate(files_ap):\n",
        "        img_ap = Image.open(f_ap)\n",
        "        img_ap = img_ap.convert(\"RGB\")\n",
        "        img_ap= img_ap.resize((image_w_ap, image_h_ap))\n",
        "        data_ap = np.asarray(img_ap)\n",
        "\n",
        "        X_ap.append(data_ap)\n",
        "        y_ap.append(label_ap)\n",
        "\n",
        "        if i % 700 == 0:\n",
        "            print(cat_ap, \" : \", f_ap)\n",
        "\n",
        "X_ap = np.array(X_ap)\n",
        "y_ap= np.array(y_ap)\n",
        "\n",
        "    #1 0 이면 주차된 사진\n",
        "    #0 1 이면 주차되지 않은 사진\n",
        "\n",
        "X_train_ap, X_test_ap, y_train_ap, y_test_ap = train_test_split(X_ap, y_ap)\n",
        "xy_ap= (X_train_ap, X_test_ap, y_train_ap, y_test_ap)\n",
        "np.save('/content/drive/My Drive/home/pi/CarLicensePlate/car_img_data_AnP.npy', xy_ap)\n"
      ],
      "execution_count": 0,
      "outputs": [
        {
          "output_type": "stream",
          "text": [
            "add_parking  파일 길이 :  500\n",
            "add_parking  :  /content/drive/My Drive/home/pi/CarLicensePlate/train_img/add_parking/car_ha_1_0_1146.png\n",
            "add_noparking  파일 길이 :  500\n",
            "add_noparking  :  /content/drive/My Drive/home/pi/CarLicensePlate/train_img/add_noparking/nopark_0_3118.png\n"
          ],
          "name": "stdout"
        }
      ]
    },
    {
      "cell_type": "code",
      "metadata": {
        "id": "zBtZjCMUMYO6",
        "colab_type": "code",
        "outputId": "5b804f67-4606-493f-a7fe-e9ed11ce302d",
        "colab": {
          "base_uri": "https://localhost:8080/",
          "height": 34
        }
      },
      "source": [
        "import os, glob, numpy as np\n",
        "from keras.models import Sequential\n",
        "from keras.layers import Conv2D, MaxPooling2D, Dense, Flatten, Dropout\n",
        "from keras.callbacks import EarlyStopping, ModelCheckpoint\n",
        "import matplotlib.pyplot as plt\n",
        "import keras.backend.tensorflow_backend as K\n",
        "import tensorflow as tf\n",
        "\n",
        "config_ap = tf.compat.v1.ConfigProto()\n",
        "config_ap.gpu_options.allow_growth = True\n",
        "session = tf.compat.v1.Session(config=config_ap)\n",
        "\n",
        "X_train_ap, X_test_ap, y_train_ap, y_test_ap = np.load('/content/drive/My Drive/home/pi/CarLicensePlate/car_img_data_AnP.npy',allow_pickle=True)"
      ],
      "execution_count": 0,
      "outputs": [
        {
          "output_type": "stream",
          "text": [
            "Using TensorFlow backend.\n"
          ],
          "name": "stderr"
        }
      ]
    },
    {
      "cell_type": "code",
      "metadata": {
        "id": "qD8lvkuyMdPB",
        "colab_type": "code",
        "colab": {}
      },
      "source": [
        "categories_ap = [\"add_parking\",\"add_noparking\"]   #car와 no_car로 나누기\n",
        "nb_classes_ap = len(categories_ap)\n",
        "\n",
        "#일반화\n",
        "X_train_ap = X_train_ap.astype(float) / 255\n",
        "X_test_ap = X_test_ap.astype(float) / 255"
      ],
      "execution_count": 0,
      "outputs": []
    },
    {
      "cell_type": "code",
      "metadata": {
        "id": "C9OwU5VeMYSa",
        "colab_type": "code",
        "colab": {}
      },
      "source": [
        "with K.tf_ops.device('/device:GPU:0'):\n",
        "    model_ap = Sequential()\n",
        "    model_ap.add(Conv2D(32, (3,3), padding=\"same\", input_shape=X_train_ap.shape[1:], activation='relu'))\n",
        "    model_ap.add(MaxPooling2D(pool_size=(2,2)))\n",
        "    model_ap.add(Dropout(0.25))\n",
        "\n",
        "    model_ap.add(Conv2D(64, (3,3), padding=\"same\", activation='relu'))\n",
        "    model_ap.add(MaxPooling2D(pool_size=(2,2)))\n",
        "    model_ap.add(Dropout(0.25))\n",
        "\n",
        "    model_ap.add(Flatten())\n",
        "    model_ap.add(Dense(256, activation='relu'))\n",
        "    model_ap.add(Dropout(0.5))\n",
        "    model_ap.add(Dense(nb_classes_ap, activation='sigmoid'))\n",
        "    model_ap.compile(loss='binary_crossentropy', optimizer='adam', metrics=['accuracy'])\n",
        "    model_dir_ap = './model'\n",
        "\n",
        "    if not os.path.exists(model_dir_ap):\n",
        "        os.mkdir(model_dir_ap)\n",
        "\n",
        "    model_path_ap = model_dir_ap + '/parking_img_classification_1.model'\n",
        "    checkpoint = ModelCheckpoint(filepath=model_path_ap , monitor='val_loss', verbose=1, save_best_only=True)\n",
        "    early_stopping = EarlyStopping(monitor='val_loss', patience=6)\n"
      ],
      "execution_count": 0,
      "outputs": []
    },
    {
      "cell_type": "code",
      "metadata": {
        "id": "weTQrHj-MYXm",
        "colab_type": "code",
        "outputId": "95afedc0-347c-44e9-fa83-25ea256398e8",
        "colab": {
          "base_uri": "https://localhost:8080/",
          "height": 510
        }
      },
      "source": [
        "model_ap.summary()"
      ],
      "execution_count": 0,
      "outputs": [
        {
          "output_type": "stream",
          "text": [
            "Model: \"sequential_1\"\n",
            "_________________________________________________________________\n",
            "Layer (type)                 Output Shape              Param #   \n",
            "=================================================================\n",
            "conv2d_1 (Conv2D)            (None, 64, 64, 32)        896       \n",
            "_________________________________________________________________\n",
            "max_pooling2d_1 (MaxPooling2 (None, 32, 32, 32)        0         \n",
            "_________________________________________________________________\n",
            "dropout_1 (Dropout)          (None, 32, 32, 32)        0         \n",
            "_________________________________________________________________\n",
            "conv2d_2 (Conv2D)            (None, 32, 32, 64)        18496     \n",
            "_________________________________________________________________\n",
            "max_pooling2d_2 (MaxPooling2 (None, 16, 16, 64)        0         \n",
            "_________________________________________________________________\n",
            "dropout_2 (Dropout)          (None, 16, 16, 64)        0         \n",
            "_________________________________________________________________\n",
            "flatten_1 (Flatten)          (None, 16384)             0         \n",
            "_________________________________________________________________\n",
            "dense_1 (Dense)              (None, 256)               4194560   \n",
            "_________________________________________________________________\n",
            "dropout_3 (Dropout)          (None, 256)               0         \n",
            "_________________________________________________________________\n",
            "dense_2 (Dense)              (None, 2)                 514       \n",
            "=================================================================\n",
            "Total params: 4,214,466\n",
            "Trainable params: 4,214,466\n",
            "Non-trainable params: 0\n",
            "_________________________________________________________________\n"
          ],
          "name": "stdout"
        }
      ]
    },
    {
      "cell_type": "code",
      "metadata": {
        "id": "2OgoVTPzMYZ0",
        "colab_type": "code",
        "outputId": "60c13bf4-3a2b-42c1-9469-03e9c7e22caa",
        "colab": {
          "base_uri": "https://localhost:8080/",
          "height": 738
        }
      },
      "source": [
        "history_ap = model_ap.fit(X_train_ap, y_train_ap, batch_size=3, epochs=10, validation_data=(X_test_ap, y_test_ap), callbacks=[checkpoint, early_stopping])"
      ],
      "execution_count": 0,
      "outputs": [
        {
          "output_type": "stream",
          "text": [
            "Train on 750 samples, validate on 250 samples\n",
            "Epoch 1/10\n",
            "750/750 [==============================] - 25s 33ms/step - loss: 0.1544 - accuracy: 0.9367 - val_loss: 0.0107 - val_accuracy: 0.9960\n",
            "\n",
            "Epoch 00001: val_loss improved from inf to 0.01069, saving model to ./model/parking_img_classification_1.model\n",
            "Epoch 2/10\n",
            "750/750 [==============================] - 24s 32ms/step - loss: 0.0183 - accuracy: 0.9940 - val_loss: 6.1632e-04 - val_accuracy: 1.0000\n",
            "\n",
            "Epoch 00002: val_loss improved from 0.01069 to 0.00062, saving model to ./model/parking_img_classification_1.model\n",
            "Epoch 3/10\n",
            "750/750 [==============================] - 24s 32ms/step - loss: 0.0354 - accuracy: 0.9947 - val_loss: 5.0779e-04 - val_accuracy: 1.0000\n",
            "\n",
            "Epoch 00003: val_loss improved from 0.00062 to 0.00051, saving model to ./model/parking_img_classification_1.model\n",
            "Epoch 4/10\n",
            "750/750 [==============================] - 24s 32ms/step - loss: 0.0160 - accuracy: 0.9973 - val_loss: 8.9171e-05 - val_accuracy: 1.0000\n",
            "\n",
            "Epoch 00004: val_loss improved from 0.00051 to 0.00009, saving model to ./model/parking_img_classification_1.model\n",
            "Epoch 5/10\n",
            "750/750 [==============================] - 24s 32ms/step - loss: 0.0113 - accuracy: 0.9973 - val_loss: 1.8119e-04 - val_accuracy: 1.0000\n",
            "\n",
            "Epoch 00005: val_loss did not improve from 0.00009\n",
            "Epoch 6/10\n",
            "750/750 [==============================] - 24s 32ms/step - loss: 4.5569e-04 - accuracy: 1.0000 - val_loss: 2.8683e-05 - val_accuracy: 1.0000\n",
            "\n",
            "Epoch 00006: val_loss improved from 0.00009 to 0.00003, saving model to ./model/parking_img_classification_1.model\n",
            "Epoch 7/10\n",
            "750/750 [==============================] - 24s 32ms/step - loss: 1.6617e-04 - accuracy: 1.0000 - val_loss: 5.6604e-06 - val_accuracy: 1.0000\n",
            "\n",
            "Epoch 00007: val_loss improved from 0.00003 to 0.00001, saving model to ./model/parking_img_classification_1.model\n",
            "Epoch 8/10\n",
            "750/750 [==============================] - 24s 32ms/step - loss: 3.9854e-05 - accuracy: 1.0000 - val_loss: 2.8976e-06 - val_accuracy: 1.0000\n",
            "\n",
            "Epoch 00008: val_loss improved from 0.00001 to 0.00000, saving model to ./model/parking_img_classification_1.model\n",
            "Epoch 9/10\n",
            "750/750 [==============================] - 24s 32ms/step - loss: 4.4975e-05 - accuracy: 1.0000 - val_loss: 2.1065e-06 - val_accuracy: 1.0000\n",
            "\n",
            "Epoch 00009: val_loss improved from 0.00000 to 0.00000, saving model to ./model/parking_img_classification_1.model\n",
            "Epoch 10/10\n",
            "750/750 [==============================] - 24s 32ms/step - loss: 2.9575e-05 - accuracy: 1.0000 - val_loss: 1.1302e-06 - val_accuracy: 1.0000\n",
            "\n",
            "Epoch 00010: val_loss improved from 0.00000 to 0.00000, saving model to ./model/parking_img_classification_1.model\n"
          ],
          "name": "stdout"
        }
      ]
    },
    {
      "cell_type": "code",
      "metadata": {
        "id": "QOIaQsLSMi-i",
        "colab_type": "code",
        "outputId": "97b23f94-fa7d-4331-d910-b2aca6e86988",
        "colab": {
          "base_uri": "https://localhost:8080/",
          "height": 52
        }
      },
      "source": [
        "print(\"정확도 : %.4f\" % (model_ap.evaluate(X_test_ap, y_test_ap)[1]))"
      ],
      "execution_count": 0,
      "outputs": [
        {
          "output_type": "stream",
          "text": [
            "250/250 [==============================] - 0s 2ms/step\n",
            "정확도 : 1.0000\n"
          ],
          "name": "stdout"
        }
      ]
    },
    {
      "cell_type": "code",
      "metadata": {
        "id": "-JjubGgqMi5W",
        "colab_type": "code",
        "outputId": "9cf9ae5f-1386-47a6-f718-246ac3fa6f62",
        "colab": {
          "base_uri": "https://localhost:8080/",
          "height": 281
        }
      },
      "source": [
        "y_vloss_ap = history_ap.history['val_loss']\n",
        "y_loss_ap = history_ap.history['loss']\n",
        "\n",
        "x_len_ap = np.arange(len(y_loss_ap))\n",
        "\n",
        "plt.plot(x_len_ap, y_vloss_ap, marker='.', c='red', label='val_set_loss')\n",
        "plt.plot(x_len_ap, y_loss_ap, marker='.', c='blue', label='train_set_oss')\n",
        "plt.legend()\n",
        "plt.xlabel('epochs')\n",
        "plt.ylabel('loss')\n",
        "plt.grid()"
      ],
      "execution_count": 0,
      "outputs": [
        {
          "output_type": "display_data",
          "data": {
            "image/png": "[encoded data removed]",
            "text/plain": [
              "<Figure size 432x288 with 1 Axes>"
            ]
          },
          "metadata": {
            "tags": [],
            "needs_background": "light"
          }
        }
      ]
    },
    {
      "cell_type": "code",
      "metadata": {
        "id": "_k8PZvTPMix2",
        "colab_type": "code",
        "outputId": "581c7c49-3c27-4902-9b03-44f953dd6920",
        "colab": {
          "base_uri": "https://localhost:8080/",
          "height": 545
        }
      },
      "source": [
        "from PIL import Image\n",
        "import os, glob, numpy as np\n",
        "from keras.models import load_model\n",
        "\n",
        "caltech_dir = '/content/drive/My Drive/home/pi/CarLicensePlate/test_img'  #테스트셋 카테고리 경로\n",
        "image_w_ap = 64\n",
        "image_h_ap = 64\n",
        "\n",
        "pixels_ap = image_h_ap * image_w_ap * 3\n",
        "\n",
        "X_ap = []\n",
        "filenames = []\n",
        "files = glob.glob(caltech_dir+\"/*.*\")\n",
        "for i, f in enumerate(files):\n",
        "    img_ap = Image.open(f)\n",
        "    img_ap = img_ap.convert(\"RGB\")\n",
        "    img_ap= img_ap.resize((image_w_ap, image_h_ap))\n",
        "    data_ap = np.asarray(img_ap)\n",
        "    filenames.append(f)\n",
        "    X_ap.append(data_ap)\n",
        "\n",
        "X_ap = np.array(X_ap)\n",
        "model_ap = load_model('./model/parking_img_classification_1.model')   #CNN모델 불러옴 \n",
        "prediction_ap = model_ap.predict(X_ap)\n",
        "np.set_printoptions(formatter={'float': lambda x: \"{0:0.3f}\".format(x)})\n",
        "cnt = 0\n",
        "\n",
        "#for i in prediction_ap:\n",
        "#    pre_ans_ap = i.argmax()  # 예측 레이블\n",
        "#    if i >= 0.5 :\n",
        "#        print(\"해당 \" + filenames[cnt].split(\"\\\\\")[1] + filenames[cnt].split(\"\\\\\")[2] + \"   주차 완료입니다.\")  \n",
        "#    else :\n",
        "#       print(\"해당 \" + filenames[cnt].split(\"\\\\\")[1] + filenames[cnt].split(\"\\\\\")[2] + \"  주차 상태가 아닙니다.\")        \n",
        "#    cnt += 1\n",
        "\n",
        "for i in prediction_ap:\n",
        "    pre_ans_ap = i.argmax()  # 예측 레이블\n",
        "    pre_ans_str_ap = ''\n",
        "\n",
        "    if pre_ans_ap == 0: \n",
        "      pre_ans_str_ap = \"주차완료\"\n",
        "    else: pre_ans_str_ap = \"주차 상태 아님\"\n",
        "    \n",
        "    print(i,'\\n')\n",
        "\n",
        "    if pre_ans_ap > 0.5 : \n",
        "      print(\"해당 \"+filenames[cnt].split(\"\\\\\")[0]+\"이미지는 \"+pre_ans_str_ap+\"으로 추정됩니다.\")\n",
        "    else : \n",
        "      print(\"해당 \"+filenames[cnt].split(\"\\\\\")[0]+\"이미지는 \"+pre_ans_str_ap+\"로 추정됩니다.\")\n",
        "    cnt += 1"
      ],
      "execution_count": 0,
      "outputs": [
        {
          "output_type": "stream",
          "text": [
            "[1.000 0.000] \n",
            "\n",
            "해당 /content/drive/My Drive/home/pi/CarLicensePlate/test_img/car_ha_1_0_147.png이미지는 주차완료로 추정됩니다.\n",
            "[1.000 0.000] \n",
            "\n",
            "해당 /content/drive/My Drive/home/pi/CarLicensePlate/test_img/car_seo_1_0_147.png이미지는 주차완료로 추정됩니다.\n",
            "[1.000 0.000] \n",
            "\n",
            "해당 /content/drive/My Drive/home/pi/CarLicensePlate/test_img/car_seo_1_0_2070.png이미지는 주차완료로 추정됩니다.\n",
            "[0.000 1.000] \n",
            "\n",
            "해당 /content/drive/My Drive/home/pi/CarLicensePlate/test_img/nopark_0_147.png이미지는 주차 상태 아님으로 추정됩니다.\n",
            "[0.000 1.000] \n",
            "\n",
            "해당 /content/drive/My Drive/home/pi/CarLicensePlate/test_img/nopark_0_1862.png이미지는 주차 상태 아님으로 추정됩니다.\n",
            "[0.000 1.000] \n",
            "\n",
            "해당 /content/drive/My Drive/home/pi/CarLicensePlate/test_img/nopark_0_1681.png이미지는 주차 상태 아님으로 추정됩니다.\n",
            "[0.000 1.000] \n",
            "\n",
            "해당 /content/drive/My Drive/home/pi/CarLicensePlate/test_img/nopark_0_1146.png이미지는 주차 상태 아님으로 추정됩니다.\n",
            "[0.000 1.000] \n",
            "\n",
            "해당 /content/drive/My Drive/home/pi/CarLicensePlate/test_img/nopark_0_916.png이미지는 주차 상태 아님으로 추정됩니다.\n",
            "[1.000 0.000] \n",
            "\n",
            "해당 /content/drive/My Drive/home/pi/CarLicensePlate/test_img/car_rue_1_0_147.png이미지는 주차완료로 추정됩니다.\n",
            "[1.000 0.000] \n",
            "\n",
            "해당 /content/drive/My Drive/home/pi/CarLicensePlate/test_img/car_ga_1_0_147.png이미지는 주차완료로 추정됩니다.\n"
          ],
          "name": "stdout"
        }
      ]
    }
  ]
}